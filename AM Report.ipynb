{
 "cells": [
  {
   "cell_type": "markdown",
   "metadata": {},
   "source": [
    "# Additive Manufacturing Report Generator"
   ]
  },
  {
   "cell_type": "code",
   "execution_count": 1,
   "metadata": {},
   "outputs": [],
   "source": [
    "# import libraries\n",
    "import pandas as pd\n",
    "from docxtpl import DocxTemplate"
   ]
  },
  {
   "cell_type": "code",
   "execution_count": 2,
   "metadata": {},
   "outputs": [],
   "source": [
    "# load template\n",
    "doc = DocxTemplate('Documents/Template/template.docx')"
   ]
  },
  {
   "cell_type": "markdown",
   "metadata": {},
   "source": [
    "## Create Content"
   ]
  },
  {
   "cell_type": "code",
   "execution_count": 3,
   "metadata": {},
   "outputs": [],
   "source": [
    "# create blank  dictionary\n",
    "content = {}"
   ]
  },
  {
   "cell_type": "code",
   "execution_count": 4,
   "metadata": {},
   "outputs": [],
   "source": [
    "# title block\n",
    "content['company'] = 'Miles In 3D'\n",
    "content['department'] = 'Additive Manufacturing'\n",
    "content['phone'] = '1(800)3DP-RINT'"
   ]
  },
  {
   "cell_type": "code",
   "execution_count": 5,
   "metadata": {},
   "outputs": [],
   "source": [
    "# project summary table\n",
    "content['date'] = 'January 1st, 2020'\n",
    "content['project_name'] = 'Controller Arm'\n",
    "content['prepared_by'] = 'Miles Craig'"
   ]
  },
  {
   "cell_type": "code",
   "execution_count": 6,
   "metadata": {},
   "outputs": [],
   "source": [
    "# status summary\n",
    "\n",
    "content['status_summary'] = 'The project is progressing nicely. ' + \\\n",
    "                            '1 part has been successfully printed. ' + \\\n",
    "                            '2 parts are currently printing. ' + \\\n",
    "                            '1 machine is being fixed.'"
   ]
  },
  {
   "cell_type": "code",
   "execution_count": 7,
   "metadata": {},
   "outputs": [
    {
     "data": {
      "text/html": [
       "<div>\n",
       "<style scoped>\n",
       "    .dataframe tbody tr th:only-of-type {\n",
       "        vertical-align: middle;\n",
       "    }\n",
       "\n",
       "    .dataframe tbody tr th {\n",
       "        vertical-align: top;\n",
       "    }\n",
       "\n",
       "    .dataframe thead th {\n",
       "        text-align: right;\n",
       "    }\n",
       "</style>\n",
       "<table border=\"1\" class=\"dataframe\">\n",
       "  <thead>\n",
       "    <tr style=\"text-align: right;\">\n",
       "      <th></th>\n",
       "      <th>part</th>\n",
       "      <th>material</th>\n",
       "      <th>printer</th>\n",
       "      <th>due_date</th>\n",
       "      <th>status</th>\n",
       "      <th>notes</th>\n",
       "    </tr>\n",
       "  </thead>\n",
       "  <tbody>\n",
       "    <tr>\n",
       "      <th>0</th>\n",
       "      <td>bracket_01</td>\n",
       "      <td>SS</td>\n",
       "      <td>ProX DMP 320</td>\n",
       "      <td>Jan 25th</td>\n",
       "      <td>Printed and Finished</td>\n",
       "      <td>Ready to Ship</td>\n",
       "    </tr>\n",
       "    <tr>\n",
       "      <th>1</th>\n",
       "      <td>bracket_02</td>\n",
       "      <td>SS</td>\n",
       "      <td>ProX DMP 320</td>\n",
       "      <td>Jan 30th</td>\n",
       "      <td>Printing</td>\n",
       "      <td>Needs to be finished</td>\n",
       "    </tr>\n",
       "    <tr>\n",
       "      <th>2</th>\n",
       "      <td>bracket_03</td>\n",
       "      <td>Ti</td>\n",
       "      <td>ProX DMP 350</td>\n",
       "      <td>Jan 30th</td>\n",
       "      <td>Printing</td>\n",
       "      <td>Needs to be finished</td>\n",
       "    </tr>\n",
       "  </tbody>\n",
       "</table>\n",
       "</div>"
      ],
      "text/plain": [
       "         part material       printer  due_date                status  \\\n",
       "0  bracket_01       SS  ProX DMP 320  Jan 25th  Printed and Finished   \n",
       "1  bracket_02       SS  ProX DMP 320  Jan 30th              Printing   \n",
       "2  bracket_03       Ti  ProX DMP 350  Jan 30th              Printing   \n",
       "\n",
       "                  notes  \n",
       "0         Ready to Ship  \n",
       "1  Needs to be finished  \n",
       "2  Needs to be finished  "
      ]
     },
     "execution_count": 7,
     "metadata": {},
     "output_type": "execute_result"
    }
   ],
   "source": [
    "# part overview\n",
    "\n",
    "part_cols = ['part','material','printer','due_date','status','notes']\n",
    "part_data = [['bracket_01','SS','ProX DMP 320','Jan 25th','Printed and Finished','Ready to Ship'],\n",
    "             ['bracket_02','SS','ProX DMP 320','Jan 30th','Printing','Needs to be finished'],\n",
    "             ['bracket_03','Ti','ProX DMP 350','Jan 30th','Printing','Needs to be finished']]\n",
    "part_df = pd.DataFrame(part_data, columns=part_cols)\n",
    "content['part_table'] = part_df.T.to_dict().values()\n",
    "part_df"
   ]
  },
  {
   "cell_type": "code",
   "execution_count": 8,
   "metadata": {},
   "outputs": [
    {
     "data": {
      "text/html": [
       "<div>\n",
       "<style scoped>\n",
       "    .dataframe tbody tr th:only-of-type {\n",
       "        vertical-align: middle;\n",
       "    }\n",
       "\n",
       "    .dataframe tbody tr th {\n",
       "        vertical-align: top;\n",
       "    }\n",
       "\n",
       "    .dataframe thead th {\n",
       "        text-align: right;\n",
       "    }\n",
       "</style>\n",
       "<table border=\"1\" class=\"dataframe\">\n",
       "  <thead>\n",
       "    <tr style=\"text-align: right;\">\n",
       "      <th></th>\n",
       "      <th>printer</th>\n",
       "      <th>technology</th>\n",
       "      <th>material</th>\n",
       "      <th>status</th>\n",
       "      <th>notes</th>\n",
       "    </tr>\n",
       "  </thead>\n",
       "  <tbody>\n",
       "    <tr>\n",
       "      <th>0</th>\n",
       "      <td>ProX DMP 320</td>\n",
       "      <td>PBF/DMLS</td>\n",
       "      <td>SS</td>\n",
       "      <td>Printing</td>\n",
       "      <td>Print Next Part</td>\n",
       "    </tr>\n",
       "    <tr>\n",
       "      <th>1</th>\n",
       "      <td>ProX DMP 350</td>\n",
       "      <td>PBF/DMLS</td>\n",
       "      <td>Ti</td>\n",
       "      <td>Printing</td>\n",
       "      <td>Material Change Over</td>\n",
       "    </tr>\n",
       "    <tr>\n",
       "      <th>2</th>\n",
       "      <td>FORTUS 450MC</td>\n",
       "      <td>FDM</td>\n",
       "      <td>ABS</td>\n",
       "      <td>Being Fixed</td>\n",
       "      <td>Print Calibration File</td>\n",
       "    </tr>\n",
       "  </tbody>\n",
       "</table>\n",
       "</div>"
      ],
      "text/plain": [
       "        printer technology material       status                   notes\n",
       "0  ProX DMP 320   PBF/DMLS       SS     Printing         Print Next Part\n",
       "1  ProX DMP 350   PBF/DMLS       Ti     Printing    Material Change Over\n",
       "2  FORTUS 450MC        FDM      ABS  Being Fixed  Print Calibration File"
      ]
     },
     "execution_count": 8,
     "metadata": {},
     "output_type": "execute_result"
    }
   ],
   "source": [
    "# printer overview\n",
    "\n",
    "printer_cols = ['printer','technology','material','status','notes']\n",
    "printer_data = [['ProX DMP 320','PBF/DMLS','SS','Printing','Print Next Part'],\n",
    "                ['ProX DMP 350','PBF/DMLS','Ti','Printing','Material Change Over'],\n",
    "                ['FORTUS 450MC','FDM','ABS','Being Fixed','Print Calibration File']]\n",
    "printer_df = pd.DataFrame(printer_data, columns=printer_cols)\n",
    "\n",
    "# convert df into a list of dictionaries\n",
    "content['printer_table'] = printer_df.T.to_dict().values()\n",
    "\n",
    "printer_df"
   ]
  },
  {
   "cell_type": "code",
   "execution_count": 9,
   "metadata": {},
   "outputs": [
    {
     "data": {
      "text/html": [
       "<div>\n",
       "<style scoped>\n",
       "    .dataframe tbody tr th:only-of-type {\n",
       "        vertical-align: middle;\n",
       "    }\n",
       "\n",
       "    .dataframe tbody tr th {\n",
       "        vertical-align: top;\n",
       "    }\n",
       "\n",
       "    .dataframe thead th {\n",
       "        text-align: right;\n",
       "    }\n",
       "</style>\n",
       "<table border=\"1\" class=\"dataframe\">\n",
       "  <thead>\n",
       "    <tr style=\"text-align: right;\">\n",
       "      <th></th>\n",
       "      <th>material</th>\n",
       "      <th>volume_queue</th>\n",
       "      <th>volume_supply</th>\n",
       "      <th>notes</th>\n",
       "    </tr>\n",
       "  </thead>\n",
       "  <tbody>\n",
       "    <tr>\n",
       "      <th>0</th>\n",
       "      <td>Stainless Steel</td>\n",
       "      <td>50</td>\n",
       "      <td>75</td>\n",
       "      <td>Consider Another Order</td>\n",
       "    </tr>\n",
       "    <tr>\n",
       "      <th>1</th>\n",
       "      <td>Titanium</td>\n",
       "      <td>15</td>\n",
       "      <td>15</td>\n",
       "      <td>EMERGENCY ORDER</td>\n",
       "    </tr>\n",
       "    <tr>\n",
       "      <th>2</th>\n",
       "      <td>ABS</td>\n",
       "      <td>5</td>\n",
       "      <td>50</td>\n",
       "      <td>N/A</td>\n",
       "    </tr>\n",
       "  </tbody>\n",
       "</table>\n",
       "</div>"
      ],
      "text/plain": [
       "          material volume_queue volume_supply                   notes\n",
       "0  Stainless Steel           50            75  Consider Another Order\n",
       "1         Titanium           15            15         EMERGENCY ORDER\n",
       "2              ABS            5            50                     N/A"
      ]
     },
     "execution_count": 9,
     "metadata": {},
     "output_type": "execute_result"
    }
   ],
   "source": [
    "# material overview\n",
    "\n",
    "material_cols = ['material','volume_queue','volume_supply','notes']\n",
    "material_data = [['Stainless Steel','50','75','Consider Another Order'],\n",
    "                ['Titanium','15','15','EMERGENCY ORDER'],\n",
    "                ['ABS','5','50','N/A']]\n",
    "material_df = pd.DataFrame(material_data, columns=material_cols)\n",
    "content['material_table'] = material_df.T.to_dict().values()\n",
    "material_df"
   ]
  },
  {
   "cell_type": "code",
   "execution_count": 10,
   "metadata": {},
   "outputs": [],
   "source": [
    "# conclusion \n",
    "content['conclusion'] = 'Order Titanium! ' + \\\n",
    "                        'Follow up with the technician about the 450 printer.'"
   ]
  },
  {
   "cell_type": "code",
   "execution_count": 11,
   "metadata": {},
   "outputs": [
    {
     "name": "stdout",
     "output_type": "stream",
     "text": [
      "company\n",
      "Miles In 3D\n",
      "\n",
      "department\n",
      "Additive Manufacturing\n",
      "\n",
      "phone\n",
      "1(800)3DP-RINT\n",
      "\n",
      "date\n",
      "January 1st, 2020\n",
      "\n",
      "project_name\n",
      "Controller Arm\n",
      "\n",
      "prepared_by\n",
      "Miles Craig\n",
      "\n",
      "status_summary\n",
      "The project is progressing nicely. 1 part has been successfully printed. 2 parts are currently printing. 1 machine is being fixed.\n",
      "\n",
      "part_table\n",
      "dict_values([{'part': 'bracket_01', 'material': 'SS', 'printer': 'ProX DMP 320', 'due_date': 'Jan 25th', 'status': 'Printed and Finished', 'notes': 'Ready to Ship'}, {'part': 'bracket_02', 'material': 'SS', 'printer': 'ProX DMP 320', 'due_date': 'Jan 30th', 'status': 'Printing', 'notes': 'Needs to be finished'}, {'part': 'bracket_03', 'material': 'Ti', 'printer': 'ProX DMP 350', 'due_date': 'Jan 30th', 'status': 'Printing', 'notes': 'Needs to be finished'}])\n",
      "\n",
      "printer_table\n",
      "dict_values([{'printer': 'ProX DMP 320', 'technology': 'PBF/DMLS', 'material': 'SS', 'status': 'Printing', 'notes': 'Print Next Part'}, {'printer': 'ProX DMP 350', 'technology': 'PBF/DMLS', 'material': 'Ti', 'status': 'Printing', 'notes': 'Material Change Over'}, {'printer': 'FORTUS 450MC', 'technology': 'FDM', 'material': 'ABS', 'status': 'Being Fixed', 'notes': 'Print Calibration File'}])\n",
      "\n",
      "material_table\n",
      "dict_values([{'material': 'Stainless Steel', 'volume_queue': '50', 'volume_supply': '75', 'notes': 'Consider Another Order'}, {'material': 'Titanium', 'volume_queue': '15', 'volume_supply': '15', 'notes': 'EMERGENCY ORDER'}, {'material': 'ABS', 'volume_queue': '5', 'volume_supply': '50', 'notes': 'N/A'}])\n",
      "\n",
      "conclusion\n",
      "Order Titanium! Follow up with the technician about the 450 printer.\n",
      "\n"
     ]
    }
   ],
   "source": [
    "# print out content dictionary\n",
    "for k,v in content.items():\n",
    "    print(k)\n",
    "    print(v)\n",
    "    print()"
   ]
  },
  {
   "cell_type": "markdown",
   "metadata": {},
   "source": [
    "## Render and Save the Report"
   ]
  },
  {
   "cell_type": "code",
   "execution_count": 12,
   "metadata": {},
   "outputs": [],
   "source": [
    "# render the documnet\n",
    "doc.render(content)"
   ]
  },
  {
   "cell_type": "code",
   "execution_count": 13,
   "metadata": {},
   "outputs": [],
   "source": [
    "# save the document \n",
    "doc.save('Documents/Report/report.docx')"
   ]
  }
 ],
 "metadata": {
  "kernelspec": {
   "display_name": "Python 3",
   "language": "python",
   "name": "python3"
  },
  "language_info": {
   "codemirror_mode": {
    "name": "ipython",
    "version": 3
   },
   "file_extension": ".py",
   "mimetype": "text/x-python",
   "name": "python",
   "nbconvert_exporter": "python",
   "pygments_lexer": "ipython3",
   "version": "3.6.5"
  }
 },
 "nbformat": 4,
 "nbformat_minor": 2
}
